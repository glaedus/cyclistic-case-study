{
 "cells": [
  {
   "cell_type": "markdown",
   "metadata": {},
   "source": [
    "# Preparing Cyclistic's 2021 Data"
   ]
  },
  {
   "cell_type": "code",
   "execution_count": 1,
   "metadata": {},
   "outputs": [],
   "source": [
    "import pandas as pd"
   ]
  },
  {
   "cell_type": "code",
   "execution_count": 2,
   "metadata": {},
   "outputs": [
    {
     "data": {
      "text/html": [
       "<div>\n",
       "<style scoped>\n",
       "    .dataframe tbody tr th:only-of-type {\n",
       "        vertical-align: middle;\n",
       "    }\n",
       "\n",
       "    .dataframe tbody tr th {\n",
       "        vertical-align: top;\n",
       "    }\n",
       "\n",
       "    .dataframe thead th {\n",
       "        text-align: right;\n",
       "    }\n",
       "</style>\n",
       "<table border=\"1\" class=\"dataframe\">\n",
       "  <thead>\n",
       "    <tr style=\"text-align: right;\">\n",
       "      <th></th>\n",
       "      <th>ride_id</th>\n",
       "      <th>rideable_type</th>\n",
       "      <th>started_at</th>\n",
       "      <th>ended_at</th>\n",
       "      <th>start_station_name</th>\n",
       "      <th>start_station_id</th>\n",
       "      <th>end_station_name</th>\n",
       "      <th>end_station_id</th>\n",
       "      <th>start_lat</th>\n",
       "      <th>start_lng</th>\n",
       "      <th>end_lat</th>\n",
       "      <th>end_lng</th>\n",
       "      <th>member_casual</th>\n",
       "    </tr>\n",
       "  </thead>\n",
       "  <tbody>\n",
       "    <tr>\n",
       "      <th>0</th>\n",
       "      <td>E19E6F1B8D4C42ED</td>\n",
       "      <td>electric_bike</td>\n",
       "      <td>2021-01-23 16:14:19</td>\n",
       "      <td>2021-01-23 16:24:44</td>\n",
       "      <td>California Ave &amp; Cortez St</td>\n",
       "      <td>17660</td>\n",
       "      <td>NaN</td>\n",
       "      <td>NaN</td>\n",
       "      <td>41.900341</td>\n",
       "      <td>-87.696743</td>\n",
       "      <td>41.89</td>\n",
       "      <td>-87.72</td>\n",
       "      <td>member</td>\n",
       "    </tr>\n",
       "    <tr>\n",
       "      <th>1</th>\n",
       "      <td>DC88F20C2C55F27F</td>\n",
       "      <td>electric_bike</td>\n",
       "      <td>2021-01-27 18:43:08</td>\n",
       "      <td>2021-01-27 18:47:12</td>\n",
       "      <td>California Ave &amp; Cortez St</td>\n",
       "      <td>17660</td>\n",
       "      <td>NaN</td>\n",
       "      <td>NaN</td>\n",
       "      <td>41.900333</td>\n",
       "      <td>-87.696707</td>\n",
       "      <td>41.90</td>\n",
       "      <td>-87.69</td>\n",
       "      <td>member</td>\n",
       "    </tr>\n",
       "    <tr>\n",
       "      <th>2</th>\n",
       "      <td>EC45C94683FE3F27</td>\n",
       "      <td>electric_bike</td>\n",
       "      <td>2021-01-21 22:35:54</td>\n",
       "      <td>2021-01-21 22:37:14</td>\n",
       "      <td>California Ave &amp; Cortez St</td>\n",
       "      <td>17660</td>\n",
       "      <td>NaN</td>\n",
       "      <td>NaN</td>\n",
       "      <td>41.900313</td>\n",
       "      <td>-87.696643</td>\n",
       "      <td>41.90</td>\n",
       "      <td>-87.70</td>\n",
       "      <td>member</td>\n",
       "    </tr>\n",
       "    <tr>\n",
       "      <th>3</th>\n",
       "      <td>4FA453A75AE377DB</td>\n",
       "      <td>electric_bike</td>\n",
       "      <td>2021-01-07 13:31:13</td>\n",
       "      <td>2021-01-07 13:42:55</td>\n",
       "      <td>California Ave &amp; Cortez St</td>\n",
       "      <td>17660</td>\n",
       "      <td>NaN</td>\n",
       "      <td>NaN</td>\n",
       "      <td>41.900399</td>\n",
       "      <td>-87.696662</td>\n",
       "      <td>41.92</td>\n",
       "      <td>-87.69</td>\n",
       "      <td>member</td>\n",
       "    </tr>\n",
       "    <tr>\n",
       "      <th>4</th>\n",
       "      <td>BE5E8EB4E7263A0B</td>\n",
       "      <td>electric_bike</td>\n",
       "      <td>2021-01-23 02:24:02</td>\n",
       "      <td>2021-01-23 02:24:45</td>\n",
       "      <td>California Ave &amp; Cortez St</td>\n",
       "      <td>17660</td>\n",
       "      <td>NaN</td>\n",
       "      <td>NaN</td>\n",
       "      <td>41.900326</td>\n",
       "      <td>-87.696697</td>\n",
       "      <td>41.90</td>\n",
       "      <td>-87.70</td>\n",
       "      <td>casual</td>\n",
       "    </tr>\n",
       "  </tbody>\n",
       "</table>\n",
       "</div>"
      ],
      "text/plain": [
       "            ride_id  rideable_type           started_at             ended_at  \\\n",
       "0  E19E6F1B8D4C42ED  electric_bike  2021-01-23 16:14:19  2021-01-23 16:24:44   \n",
       "1  DC88F20C2C55F27F  electric_bike  2021-01-27 18:43:08  2021-01-27 18:47:12   \n",
       "2  EC45C94683FE3F27  electric_bike  2021-01-21 22:35:54  2021-01-21 22:37:14   \n",
       "3  4FA453A75AE377DB  electric_bike  2021-01-07 13:31:13  2021-01-07 13:42:55   \n",
       "4  BE5E8EB4E7263A0B  electric_bike  2021-01-23 02:24:02  2021-01-23 02:24:45   \n",
       "\n",
       "           start_station_name start_station_id end_station_name  \\\n",
       "0  California Ave & Cortez St            17660              NaN   \n",
       "1  California Ave & Cortez St            17660              NaN   \n",
       "2  California Ave & Cortez St            17660              NaN   \n",
       "3  California Ave & Cortez St            17660              NaN   \n",
       "4  California Ave & Cortez St            17660              NaN   \n",
       "\n",
       "  end_station_id  start_lat  start_lng  end_lat  end_lng member_casual  \n",
       "0            NaN  41.900341 -87.696743    41.89   -87.72        member  \n",
       "1            NaN  41.900333 -87.696707    41.90   -87.69        member  \n",
       "2            NaN  41.900313 -87.696643    41.90   -87.70        member  \n",
       "3            NaN  41.900399 -87.696662    41.92   -87.69        member  \n",
       "4            NaN  41.900326 -87.696697    41.90   -87.70        casual  "
      ]
     },
     "execution_count": 2,
     "metadata": {},
     "output_type": "execute_result"
    }
   ],
   "source": [
    "pd.read_csv(\"/Users/Jerald/Documents/Documents – Jerald’s MacBook/Google Data analytics/Bike Sharing Case Study/202101-divvy-tripdata.csv\").head()"
   ]
  },
  {
   "cell_type": "markdown",
   "metadata": {},
   "source": [
    "## Data Cleaning"
   ]
  },
  {
   "cell_type": "code",
   "execution_count": 3,
   "metadata": {},
   "outputs": [
    {
     "name": "stdout",
     "output_type": "stream",
     "text": [
      "Successfully created dataframe for /Users/Jerald/Documents/Documents – Jerald’s MacBook/Google Data analytics/Bike Sharing Case Study/202109-divvy-tripdata.csv with shape (756147, 13)\n",
      "Successfully created dataframe for /Users/Jerald/Documents/Documents – Jerald’s MacBook/Google Data analytics/Bike Sharing Case Study/202104-divvy-tripdata.csv with shape (337230, 13)\n",
      "Successfully created dataframe for /Users/Jerald/Documents/Documents – Jerald’s MacBook/Google Data analytics/Bike Sharing Case Study/202107-divvy-tripdata.csv with shape (822410, 13)\n",
      "Successfully created dataframe for /Users/Jerald/Documents/Documents – Jerald’s MacBook/Google Data analytics/Bike Sharing Case Study/202111-divvy-tripdata.csv with shape (359978, 13)\n",
      "Successfully created dataframe for /Users/Jerald/Documents/Documents – Jerald’s MacBook/Google Data analytics/Bike Sharing Case Study/202101-divvy-tripdata.csv with shape (96834, 13)\n",
      "Successfully created dataframe for /Users/Jerald/Documents/Documents – Jerald’s MacBook/Google Data analytics/Bike Sharing Case Study/202102-divvy-tripdata.csv with shape (49622, 13)\n",
      "Successfully created dataframe for /Users/Jerald/Documents/Documents – Jerald’s MacBook/Google Data analytics/Bike Sharing Case Study/202112-divvy-tripdata.csv with shape (247540, 13)\n",
      "Successfully created dataframe for /Users/Jerald/Documents/Documents – Jerald’s MacBook/Google Data analytics/Bike Sharing Case Study/202103-divvy-tripdata.csv with shape (228496, 13)\n",
      "Successfully created dataframe for /Users/Jerald/Documents/Documents – Jerald’s MacBook/Google Data analytics/Bike Sharing Case Study/202110-divvy-tripdata.csv with shape (631226, 13)\n",
      "Successfully created dataframe for /Users/Jerald/Documents/Documents – Jerald’s MacBook/Google Data analytics/Bike Sharing Case Study/202106-divvy-tripdata.csv with shape (729595, 13)\n",
      "Successfully created dataframe for /Users/Jerald/Documents/Documents – Jerald’s MacBook/Google Data analytics/Bike Sharing Case Study/202108-divvy-tripdata.csv with shape (804352, 13)\n",
      "Successfully created dataframe for /Users/Jerald/Documents/Documents – Jerald’s MacBook/Google Data analytics/Bike Sharing Case Study/202105-divvy-tripdata.csv with shape (531633, 13)\n"
     ]
    }
   ],
   "source": [
    "import glob\n",
    "\n",
    "# Look for csv files in the input directory\n",
    "path = '/Users/Jerald/Documents/Documents – Jerald’s MacBook/Google Data analytics/Bike Sharing Case Study/'\n",
    "files = glob.glob(path + '/*.csv')\n",
    "\n",
    "# create empty list to store dataframes\n",
    "li = []\n",
    "\n",
    "# loop through list of files and read each one into a dataframe and append to list\n",
    "for f in files:\n",
    "    # read in csv\n",
    "    temp_df = pd.read_csv(f)\n",
    "    # append df to list\n",
    "    li.append(temp_df)\n",
    "    print(f'Successfully created dataframe for {f} with shape {temp_df.shape}')"
   ]
  },
  {
   "cell_type": "code",
   "execution_count": 4,
   "metadata": {},
   "outputs": [
    {
     "name": "stdout",
     "output_type": "stream",
     "text": [
      "(5595063, 13)\n"
     ]
    },
    {
     "data": {
      "text/html": [
       "<div>\n",
       "<style scoped>\n",
       "    .dataframe tbody tr th:only-of-type {\n",
       "        vertical-align: middle;\n",
       "    }\n",
       "\n",
       "    .dataframe tbody tr th {\n",
       "        vertical-align: top;\n",
       "    }\n",
       "\n",
       "    .dataframe thead th {\n",
       "        text-align: right;\n",
       "    }\n",
       "</style>\n",
       "<table border=\"1\" class=\"dataframe\">\n",
       "  <thead>\n",
       "    <tr style=\"text-align: right;\">\n",
       "      <th></th>\n",
       "      <th>ride_id</th>\n",
       "      <th>rideable_type</th>\n",
       "      <th>started_at</th>\n",
       "      <th>ended_at</th>\n",
       "      <th>start_station_name</th>\n",
       "      <th>start_station_id</th>\n",
       "      <th>end_station_name</th>\n",
       "      <th>end_station_id</th>\n",
       "      <th>start_lat</th>\n",
       "      <th>start_lng</th>\n",
       "      <th>end_lat</th>\n",
       "      <th>end_lng</th>\n",
       "      <th>member_casual</th>\n",
       "    </tr>\n",
       "  </thead>\n",
       "  <tbody>\n",
       "    <tr>\n",
       "      <th>0</th>\n",
       "      <td>9DC7B962304CBFD8</td>\n",
       "      <td>electric_bike</td>\n",
       "      <td>2021-09-28 16:07:10</td>\n",
       "      <td>2021-09-28 16:09:54</td>\n",
       "      <td>NaN</td>\n",
       "      <td>NaN</td>\n",
       "      <td>NaN</td>\n",
       "      <td>NaN</td>\n",
       "      <td>41.89</td>\n",
       "      <td>-87.68</td>\n",
       "      <td>41.89</td>\n",
       "      <td>-87.67</td>\n",
       "      <td>casual</td>\n",
       "    </tr>\n",
       "    <tr>\n",
       "      <th>1</th>\n",
       "      <td>F930E2C6872D6B32</td>\n",
       "      <td>electric_bike</td>\n",
       "      <td>2021-09-28 14:24:51</td>\n",
       "      <td>2021-09-28 14:40:05</td>\n",
       "      <td>NaN</td>\n",
       "      <td>NaN</td>\n",
       "      <td>NaN</td>\n",
       "      <td>NaN</td>\n",
       "      <td>41.94</td>\n",
       "      <td>-87.64</td>\n",
       "      <td>41.98</td>\n",
       "      <td>-87.67</td>\n",
       "      <td>casual</td>\n",
       "    </tr>\n",
       "    <tr>\n",
       "      <th>2</th>\n",
       "      <td>6EF72137900BB910</td>\n",
       "      <td>electric_bike</td>\n",
       "      <td>2021-09-28 00:20:16</td>\n",
       "      <td>2021-09-28 00:23:57</td>\n",
       "      <td>NaN</td>\n",
       "      <td>NaN</td>\n",
       "      <td>NaN</td>\n",
       "      <td>NaN</td>\n",
       "      <td>41.81</td>\n",
       "      <td>-87.72</td>\n",
       "      <td>41.80</td>\n",
       "      <td>-87.72</td>\n",
       "      <td>casual</td>\n",
       "    </tr>\n",
       "    <tr>\n",
       "      <th>3</th>\n",
       "      <td>78D1DE133B3DBF55</td>\n",
       "      <td>electric_bike</td>\n",
       "      <td>2021-09-28 14:51:17</td>\n",
       "      <td>2021-09-28 15:00:06</td>\n",
       "      <td>NaN</td>\n",
       "      <td>NaN</td>\n",
       "      <td>NaN</td>\n",
       "      <td>NaN</td>\n",
       "      <td>41.80</td>\n",
       "      <td>-87.72</td>\n",
       "      <td>41.81</td>\n",
       "      <td>-87.72</td>\n",
       "      <td>casual</td>\n",
       "    </tr>\n",
       "    <tr>\n",
       "      <th>4</th>\n",
       "      <td>E03D4ACDCAEF6E00</td>\n",
       "      <td>electric_bike</td>\n",
       "      <td>2021-09-28 09:53:12</td>\n",
       "      <td>2021-09-28 10:03:44</td>\n",
       "      <td>NaN</td>\n",
       "      <td>NaN</td>\n",
       "      <td>NaN</td>\n",
       "      <td>NaN</td>\n",
       "      <td>41.88</td>\n",
       "      <td>-87.74</td>\n",
       "      <td>41.88</td>\n",
       "      <td>-87.71</td>\n",
       "      <td>casual</td>\n",
       "    </tr>\n",
       "  </tbody>\n",
       "</table>\n",
       "</div>"
      ],
      "text/plain": [
       "            ride_id  rideable_type           started_at             ended_at  \\\n",
       "0  9DC7B962304CBFD8  electric_bike  2021-09-28 16:07:10  2021-09-28 16:09:54   \n",
       "1  F930E2C6872D6B32  electric_bike  2021-09-28 14:24:51  2021-09-28 14:40:05   \n",
       "2  6EF72137900BB910  electric_bike  2021-09-28 00:20:16  2021-09-28 00:23:57   \n",
       "3  78D1DE133B3DBF55  electric_bike  2021-09-28 14:51:17  2021-09-28 15:00:06   \n",
       "4  E03D4ACDCAEF6E00  electric_bike  2021-09-28 09:53:12  2021-09-28 10:03:44   \n",
       "\n",
       "  start_station_name start_station_id end_station_name end_station_id  \\\n",
       "0                NaN              NaN              NaN            NaN   \n",
       "1                NaN              NaN              NaN            NaN   \n",
       "2                NaN              NaN              NaN            NaN   \n",
       "3                NaN              NaN              NaN            NaN   \n",
       "4                NaN              NaN              NaN            NaN   \n",
       "\n",
       "   start_lat  start_lng  end_lat  end_lng member_casual  \n",
       "0      41.89     -87.68    41.89   -87.67        casual  \n",
       "1      41.94     -87.64    41.98   -87.67        casual  \n",
       "2      41.81     -87.72    41.80   -87.72        casual  \n",
       "3      41.80     -87.72    41.81   -87.72        casual  \n",
       "4      41.88     -87.74    41.88   -87.71        casual  "
      ]
     },
     "execution_count": 4,
     "metadata": {},
     "output_type": "execute_result"
    }
   ],
   "source": [
    "# concatenate the list of dataframes into one\n",
    "df = pd.concat(li, axis=0)\n",
    "print(df.shape)\n",
    "df.head()"
   ]
  },
  {
   "cell_type": "code",
   "execution_count": 5,
   "metadata": {},
   "outputs": [
    {
     "name": "stdout",
     "output_type": "stream",
     "text": [
      "<class 'pandas.core.frame.DataFrame'>\n",
      "Int64Index: 5595063 entries, 0 to 531632\n",
      "Data columns (total 13 columns):\n",
      " #   Column              Dtype  \n",
      "---  ------              -----  \n",
      " 0   ride_id             object \n",
      " 1   rideable_type       object \n",
      " 2   started_at          object \n",
      " 3   ended_at            object \n",
      " 4   start_station_name  object \n",
      " 5   start_station_id    object \n",
      " 6   end_station_name    object \n",
      " 7   end_station_id      object \n",
      " 8   start_lat           float64\n",
      " 9   start_lng           float64\n",
      " 10  end_lat             float64\n",
      " 11  end_lng             float64\n",
      " 12  member_casual       object \n",
      "dtypes: float64(4), object(9)\n",
      "memory usage: 597.6+ MB\n"
     ]
    }
   ],
   "source": [
    "# to find out more about the columns\n",
    "df.info(verbose=True)"
   ]
  },
  {
   "cell_type": "code",
   "execution_count": 6,
   "metadata": {},
   "outputs": [],
   "source": [
    "# Drop Rows with Null Values\n",
    "df.dropna(inplace= True)"
   ]
  },
  {
   "cell_type": "code",
   "execution_count": 7,
   "metadata": {},
   "outputs": [],
   "source": [
    "# Dropping duplicates based on 'ride_id column'\n",
    "df.drop_duplicates(subset='ride_id', keep= 'first', inplace= True)"
   ]
  },
  {
   "cell_type": "code",
   "execution_count": 8,
   "metadata": {},
   "outputs": [
    {
     "data": {
      "text/plain": [
       "59     2021-09-05 01:25:08\n",
       "61     2021-09-05 13:33:41\n",
       "153    2021-09-04 23:00:21\n",
       "180    2021-09-14 16:25:16\n",
       "182    2021-09-13 22:34:54\n",
       "Name: started_at, dtype: object"
      ]
     },
     "execution_count": 8,
     "metadata": {},
     "output_type": "execute_result"
    }
   ],
   "source": [
    "df['started_at'].head()"
   ]
  },
  {
   "cell_type": "code",
   "execution_count": 9,
   "metadata": {},
   "outputs": [],
   "source": [
    "#Create new column for date\n",
    "df['date'] = pd.to_datetime(df['started_at']).dt.date\n",
    "df['date'] = pd.to_datetime(df['date'])"
   ]
  },
  {
   "cell_type": "code",
   "execution_count": 10,
   "metadata": {},
   "outputs": [],
   "source": [
    "#Convert from object to datetime \n",
    "from datetime import datetime\n",
    "df['started_at'] =pd.to_datetime(df['started_at'])\n",
    "df['ended_at'] =pd.to_datetime(df['ended_at'])"
   ]
  },
  {
   "cell_type": "code",
   "execution_count": 11,
   "metadata": {},
   "outputs": [],
   "source": [
    "#create column for day of the week\n",
    "df['day_of_week'] = df['date'].dt.day_name()"
   ]
  },
  {
   "cell_type": "code",
   "execution_count": 12,
   "metadata": {},
   "outputs": [],
   "source": [
    "# Creating a column for month\n",
    "df['month'] = df['date'].dt.month_name()"
   ]
  },
  {
   "cell_type": "code",
   "execution_count": 13,
   "metadata": {},
   "outputs": [],
   "source": [
    "# Create a column for hour within the day\n",
    "df['hour'] = df['started_at'].dt.hour"
   ]
  },
  {
   "cell_type": "code",
   "execution_count": 14,
   "metadata": {},
   "outputs": [],
   "source": [
    "from datetime import timedelta"
   ]
  },
  {
   "cell_type": "code",
   "execution_count": 15,
   "metadata": {},
   "outputs": [
    {
     "data": {
      "text/plain": [
       "59    0 days 00:10:38\n",
       "61    0 days 00:32:27\n",
       "153   0 days 00:09:39\n",
       "180   0 days 00:09:47\n",
       "182   0 days 00:00:04\n",
       "Name: ride_length, dtype: timedelta64[ns]"
      ]
     },
     "execution_count": 15,
     "metadata": {},
     "output_type": "execute_result"
    }
   ],
   "source": [
    "#to find out ride length\n",
    "df['ride_length']=df['ended_at']-df['started_at']\n",
    "df['ride_length'].head()"
   ]
  },
  {
   "cell_type": "code",
   "execution_count": 16,
   "metadata": {},
   "outputs": [],
   "source": [
    "#to create a function to convert seconds to minutes since timedelta only has seconds\n",
    "def convert_to_minutes(x):\n",
    "    return x/60\n",
    "\n",
    "#another function to convert seconds to hours\n",
    "def convert_to_hours(x):\n",
    "    return x/3600"
   ]
  },
  {
   "cell_type": "code",
   "execution_count": 17,
   "metadata": {},
   "outputs": [
    {
     "data": {
      "text/plain": [
       "[638.0, 1947.0, 579.0, 587.0, 4.0, 6.0, 7466.0, 416.0, 429.0, 278.0]"
      ]
     },
     "execution_count": 17,
     "metadata": {},
     "output_type": "execute_result"
    }
   ],
   "source": [
    "#to convert ride length from days,hours,minutes,seconds to just seconds\n",
    "#after that I append that to a list to insert into the df later\n",
    "\n",
    "ride_length_in_seconds_list=[]\n",
    "\n",
    "for ride in df['ride_length']:\n",
    "    ride=timedelta.total_seconds(ride)\n",
    "    ride_length_in_seconds_list.append(ride)\n",
    "    \n",
    "#check if successful\n",
    "ride_length_in_seconds_list[:10]"
   ]
  },
  {
   "cell_type": "code",
   "execution_count": 18,
   "metadata": {},
   "outputs": [],
   "source": [
    "#inserting the list into the df for a ride length in just SECONDS\n",
    "df['ride_length_in_seconds']=ride_length_in_seconds_list\n",
    "\n",
    "#creating a column where ride length is converted to just MINUTES rounded off to 2 decimal places\n",
    "df['ride_length_in_minutes']=df['ride_length_in_seconds'].apply(convert_to_minutes).round(2)\n",
    "\n",
    "#creating a column where ride length is converted to just HOURS rounded off to 2 decimal places\n",
    "df['ride_length_in_hours']=df['ride_length_in_seconds'].apply(convert_to_hours).round(2)\n"
   ]
  },
  {
   "cell_type": "code",
   "execution_count": 19,
   "metadata": {
    "scrolled": true
   },
   "outputs": [
    {
     "data": {
      "text/html": [
       "<div>\n",
       "<style scoped>\n",
       "    .dataframe tbody tr th:only-of-type {\n",
       "        vertical-align: middle;\n",
       "    }\n",
       "\n",
       "    .dataframe tbody tr th {\n",
       "        vertical-align: top;\n",
       "    }\n",
       "\n",
       "    .dataframe thead th {\n",
       "        text-align: right;\n",
       "    }\n",
       "</style>\n",
       "<table border=\"1\" class=\"dataframe\">\n",
       "  <thead>\n",
       "    <tr style=\"text-align: right;\">\n",
       "      <th></th>\n",
       "      <th>ride_id</th>\n",
       "      <th>rideable_type</th>\n",
       "      <th>started_at</th>\n",
       "      <th>ended_at</th>\n",
       "      <th>start_station_name</th>\n",
       "      <th>start_station_id</th>\n",
       "      <th>end_station_name</th>\n",
       "      <th>end_station_id</th>\n",
       "      <th>start_lat</th>\n",
       "      <th>start_lng</th>\n",
       "      <th>...</th>\n",
       "      <th>end_lng</th>\n",
       "      <th>member_casual</th>\n",
       "      <th>date</th>\n",
       "      <th>day_of_week</th>\n",
       "      <th>month</th>\n",
       "      <th>hour</th>\n",
       "      <th>ride_length</th>\n",
       "      <th>ride_length_in_seconds</th>\n",
       "      <th>ride_length_in_minutes</th>\n",
       "      <th>ride_length_in_hours</th>\n",
       "    </tr>\n",
       "  </thead>\n",
       "  <tbody>\n",
       "    <tr>\n",
       "      <th>59</th>\n",
       "      <td>E92C804563F261EC</td>\n",
       "      <td>classic_bike</td>\n",
       "      <td>2021-09-05 01:25:08</td>\n",
       "      <td>2021-09-05 01:35:46</td>\n",
       "      <td>Wells St &amp; Walton St</td>\n",
       "      <td>TA1306000011</td>\n",
       "      <td>Desplaines St &amp; Kinzie St</td>\n",
       "      <td>TA1306000003</td>\n",
       "      <td>41.899930</td>\n",
       "      <td>-87.634430</td>\n",
       "      <td>...</td>\n",
       "      <td>-87.644448</td>\n",
       "      <td>casual</td>\n",
       "      <td>2021-09-05</td>\n",
       "      <td>Sunday</td>\n",
       "      <td>September</td>\n",
       "      <td>1</td>\n",
       "      <td>0 days 00:10:38</td>\n",
       "      <td>638.0</td>\n",
       "      <td>10.63</td>\n",
       "      <td>0.18</td>\n",
       "    </tr>\n",
       "    <tr>\n",
       "      <th>61</th>\n",
       "      <td>9ECA91210441E847</td>\n",
       "      <td>classic_bike</td>\n",
       "      <td>2021-09-05 13:33:41</td>\n",
       "      <td>2021-09-05 14:06:08</td>\n",
       "      <td>Larrabee St &amp; Armitage Ave</td>\n",
       "      <td>TA1309000006</td>\n",
       "      <td>Clark St &amp; Leland Ave</td>\n",
       "      <td>TA1309000014</td>\n",
       "      <td>41.918084</td>\n",
       "      <td>-87.643749</td>\n",
       "      <td>...</td>\n",
       "      <td>-87.667429</td>\n",
       "      <td>casual</td>\n",
       "      <td>2021-09-05</td>\n",
       "      <td>Sunday</td>\n",
       "      <td>September</td>\n",
       "      <td>13</td>\n",
       "      <td>0 days 00:32:27</td>\n",
       "      <td>1947.0</td>\n",
       "      <td>32.45</td>\n",
       "      <td>0.54</td>\n",
       "    </tr>\n",
       "    <tr>\n",
       "      <th>153</th>\n",
       "      <td>3DAA144C4E85E3AA</td>\n",
       "      <td>classic_bike</td>\n",
       "      <td>2021-09-04 23:00:21</td>\n",
       "      <td>2021-09-04 23:10:00</td>\n",
       "      <td>Dearborn St &amp; Monroe St</td>\n",
       "      <td>TA1305000006</td>\n",
       "      <td>Dearborn St &amp; Monroe St</td>\n",
       "      <td>TA1305000006</td>\n",
       "      <td>41.881320</td>\n",
       "      <td>-87.629521</td>\n",
       "      <td>...</td>\n",
       "      <td>-87.629521</td>\n",
       "      <td>casual</td>\n",
       "      <td>2021-09-04</td>\n",
       "      <td>Saturday</td>\n",
       "      <td>September</td>\n",
       "      <td>23</td>\n",
       "      <td>0 days 00:09:39</td>\n",
       "      <td>579.0</td>\n",
       "      <td>9.65</td>\n",
       "      <td>0.16</td>\n",
       "    </tr>\n",
       "    <tr>\n",
       "      <th>180</th>\n",
       "      <td>53B99FE9BD0D35F8</td>\n",
       "      <td>classic_bike</td>\n",
       "      <td>2021-09-14 16:25:16</td>\n",
       "      <td>2021-09-14 16:35:03</td>\n",
       "      <td>Kingsbury St &amp; Kinzie St</td>\n",
       "      <td>KA1503000043</td>\n",
       "      <td>Orleans St &amp; Elm St</td>\n",
       "      <td>TA1306000006</td>\n",
       "      <td>41.889177</td>\n",
       "      <td>-87.638506</td>\n",
       "      <td>...</td>\n",
       "      <td>-87.637715</td>\n",
       "      <td>casual</td>\n",
       "      <td>2021-09-14</td>\n",
       "      <td>Tuesday</td>\n",
       "      <td>September</td>\n",
       "      <td>16</td>\n",
       "      <td>0 days 00:09:47</td>\n",
       "      <td>587.0</td>\n",
       "      <td>9.78</td>\n",
       "      <td>0.16</td>\n",
       "    </tr>\n",
       "    <tr>\n",
       "      <th>182</th>\n",
       "      <td>2DB60C25C8CE3591</td>\n",
       "      <td>classic_bike</td>\n",
       "      <td>2021-09-13 22:34:54</td>\n",
       "      <td>2021-09-13 22:34:58</td>\n",
       "      <td>Michigan Ave &amp; Oak St</td>\n",
       "      <td>13042</td>\n",
       "      <td>Michigan Ave &amp; Oak St</td>\n",
       "      <td>13042</td>\n",
       "      <td>41.900960</td>\n",
       "      <td>-87.623777</td>\n",
       "      <td>...</td>\n",
       "      <td>-87.623777</td>\n",
       "      <td>casual</td>\n",
       "      <td>2021-09-13</td>\n",
       "      <td>Monday</td>\n",
       "      <td>September</td>\n",
       "      <td>22</td>\n",
       "      <td>0 days 00:00:04</td>\n",
       "      <td>4.0</td>\n",
       "      <td>0.07</td>\n",
       "      <td>0.00</td>\n",
       "    </tr>\n",
       "  </tbody>\n",
       "</table>\n",
       "<p>5 rows × 21 columns</p>\n",
       "</div>"
      ],
      "text/plain": [
       "              ride_id rideable_type          started_at            ended_at  \\\n",
       "59   E92C804563F261EC  classic_bike 2021-09-05 01:25:08 2021-09-05 01:35:46   \n",
       "61   9ECA91210441E847  classic_bike 2021-09-05 13:33:41 2021-09-05 14:06:08   \n",
       "153  3DAA144C4E85E3AA  classic_bike 2021-09-04 23:00:21 2021-09-04 23:10:00   \n",
       "180  53B99FE9BD0D35F8  classic_bike 2021-09-14 16:25:16 2021-09-14 16:35:03   \n",
       "182  2DB60C25C8CE3591  classic_bike 2021-09-13 22:34:54 2021-09-13 22:34:58   \n",
       "\n",
       "             start_station_name start_station_id           end_station_name  \\\n",
       "59         Wells St & Walton St     TA1306000011  Desplaines St & Kinzie St   \n",
       "61   Larrabee St & Armitage Ave     TA1309000006      Clark St & Leland Ave   \n",
       "153     Dearborn St & Monroe St     TA1305000006    Dearborn St & Monroe St   \n",
       "180    Kingsbury St & Kinzie St     KA1503000043        Orleans St & Elm St   \n",
       "182       Michigan Ave & Oak St            13042      Michigan Ave & Oak St   \n",
       "\n",
       "    end_station_id  start_lat  start_lng  ...    end_lng  member_casual  \\\n",
       "59    TA1306000003  41.899930 -87.634430  ... -87.644448         casual   \n",
       "61    TA1309000014  41.918084 -87.643749  ... -87.667429         casual   \n",
       "153   TA1305000006  41.881320 -87.629521  ... -87.629521         casual   \n",
       "180   TA1306000006  41.889177 -87.638506  ... -87.637715         casual   \n",
       "182          13042  41.900960 -87.623777  ... -87.623777         casual   \n",
       "\n",
       "          date day_of_week      month hour     ride_length  \\\n",
       "59  2021-09-05      Sunday  September    1 0 days 00:10:38   \n",
       "61  2021-09-05      Sunday  September   13 0 days 00:32:27   \n",
       "153 2021-09-04    Saturday  September   23 0 days 00:09:39   \n",
       "180 2021-09-14     Tuesday  September   16 0 days 00:09:47   \n",
       "182 2021-09-13      Monday  September   22 0 days 00:00:04   \n",
       "\n",
       "    ride_length_in_seconds  ride_length_in_minutes  ride_length_in_hours  \n",
       "59                   638.0                   10.63                  0.18  \n",
       "61                  1947.0                   32.45                  0.54  \n",
       "153                  579.0                    9.65                  0.16  \n",
       "180                  587.0                    9.78                  0.16  \n",
       "182                    4.0                    0.07                  0.00  \n",
       "\n",
       "[5 rows x 21 columns]"
      ]
     },
     "execution_count": 19,
     "metadata": {},
     "output_type": "execute_result"
    }
   ],
   "source": [
    "#check if everything looks ok\n",
    "df.head()"
   ]
  },
  {
   "cell_type": "code",
   "execution_count": 20,
   "metadata": {},
   "outputs": [
    {
     "data": {
      "text/html": [
       "<div>\n",
       "<style scoped>\n",
       "    .dataframe tbody tr th:only-of-type {\n",
       "        vertical-align: middle;\n",
       "    }\n",
       "\n",
       "    .dataframe tbody tr th {\n",
       "        vertical-align: top;\n",
       "    }\n",
       "\n",
       "    .dataframe thead th {\n",
       "        text-align: right;\n",
       "    }\n",
       "</style>\n",
       "<table border=\"1\" class=\"dataframe\">\n",
       "  <thead>\n",
       "    <tr style=\"text-align: right;\">\n",
       "      <th></th>\n",
       "      <th>ride_id</th>\n",
       "      <th>rideable_type</th>\n",
       "      <th>started_at</th>\n",
       "      <th>ended_at</th>\n",
       "      <th>start_station_name</th>\n",
       "      <th>start_station_id</th>\n",
       "      <th>end_station_name</th>\n",
       "      <th>end_station_id</th>\n",
       "      <th>start_lat</th>\n",
       "      <th>start_lng</th>\n",
       "      <th>...</th>\n",
       "      <th>end_lng</th>\n",
       "      <th>member_casual</th>\n",
       "      <th>date</th>\n",
       "      <th>day_of_week</th>\n",
       "      <th>month</th>\n",
       "      <th>hour</th>\n",
       "      <th>ride_length</th>\n",
       "      <th>ride_length_in_seconds</th>\n",
       "      <th>ride_length_in_minutes</th>\n",
       "      <th>ride_length_in_hours</th>\n",
       "    </tr>\n",
       "  </thead>\n",
       "  <tbody>\n",
       "    <tr>\n",
       "      <th>59</th>\n",
       "      <td>E92C804563F261EC</td>\n",
       "      <td>classic_bike</td>\n",
       "      <td>2021-09-05 01:25:08</td>\n",
       "      <td>2021-09-05 01:35:46</td>\n",
       "      <td>Wells St &amp; Walton St</td>\n",
       "      <td>TA1306000011</td>\n",
       "      <td>Desplaines St &amp; Kinzie St</td>\n",
       "      <td>TA1306000003</td>\n",
       "      <td>41.899930</td>\n",
       "      <td>-87.634430</td>\n",
       "      <td>...</td>\n",
       "      <td>-87.644448</td>\n",
       "      <td>casual</td>\n",
       "      <td>2021-09-05</td>\n",
       "      <td>Sunday</td>\n",
       "      <td>September</td>\n",
       "      <td>1</td>\n",
       "      <td>0 days 00:10:38</td>\n",
       "      <td>638.0</td>\n",
       "      <td>10.63</td>\n",
       "      <td>0.18</td>\n",
       "    </tr>\n",
       "    <tr>\n",
       "      <th>61</th>\n",
       "      <td>9ECA91210441E847</td>\n",
       "      <td>classic_bike</td>\n",
       "      <td>2021-09-05 13:33:41</td>\n",
       "      <td>2021-09-05 14:06:08</td>\n",
       "      <td>Larrabee St &amp; Armitage Ave</td>\n",
       "      <td>TA1309000006</td>\n",
       "      <td>Clark St &amp; Leland Ave</td>\n",
       "      <td>TA1309000014</td>\n",
       "      <td>41.918084</td>\n",
       "      <td>-87.643749</td>\n",
       "      <td>...</td>\n",
       "      <td>-87.667429</td>\n",
       "      <td>casual</td>\n",
       "      <td>2021-09-05</td>\n",
       "      <td>Sunday</td>\n",
       "      <td>September</td>\n",
       "      <td>13</td>\n",
       "      <td>0 days 00:32:27</td>\n",
       "      <td>1947.0</td>\n",
       "      <td>32.45</td>\n",
       "      <td>0.54</td>\n",
       "    </tr>\n",
       "    <tr>\n",
       "      <th>153</th>\n",
       "      <td>3DAA144C4E85E3AA</td>\n",
       "      <td>classic_bike</td>\n",
       "      <td>2021-09-04 23:00:21</td>\n",
       "      <td>2021-09-04 23:10:00</td>\n",
       "      <td>Dearborn St &amp; Monroe St</td>\n",
       "      <td>TA1305000006</td>\n",
       "      <td>Dearborn St &amp; Monroe St</td>\n",
       "      <td>TA1305000006</td>\n",
       "      <td>41.881320</td>\n",
       "      <td>-87.629521</td>\n",
       "      <td>...</td>\n",
       "      <td>-87.629521</td>\n",
       "      <td>casual</td>\n",
       "      <td>2021-09-04</td>\n",
       "      <td>Saturday</td>\n",
       "      <td>September</td>\n",
       "      <td>23</td>\n",
       "      <td>0 days 00:09:39</td>\n",
       "      <td>579.0</td>\n",
       "      <td>9.65</td>\n",
       "      <td>0.16</td>\n",
       "    </tr>\n",
       "    <tr>\n",
       "      <th>180</th>\n",
       "      <td>53B99FE9BD0D35F8</td>\n",
       "      <td>classic_bike</td>\n",
       "      <td>2021-09-14 16:25:16</td>\n",
       "      <td>2021-09-14 16:35:03</td>\n",
       "      <td>Kingsbury St &amp; Kinzie St</td>\n",
       "      <td>KA1503000043</td>\n",
       "      <td>Orleans St &amp; Elm St</td>\n",
       "      <td>TA1306000006</td>\n",
       "      <td>41.889177</td>\n",
       "      <td>-87.638506</td>\n",
       "      <td>...</td>\n",
       "      <td>-87.637715</td>\n",
       "      <td>casual</td>\n",
       "      <td>2021-09-14</td>\n",
       "      <td>Tuesday</td>\n",
       "      <td>September</td>\n",
       "      <td>16</td>\n",
       "      <td>0 days 00:09:47</td>\n",
       "      <td>587.0</td>\n",
       "      <td>9.78</td>\n",
       "      <td>0.16</td>\n",
       "    </tr>\n",
       "    <tr>\n",
       "      <th>232</th>\n",
       "      <td>F79ECB90D812BB9F</td>\n",
       "      <td>classic_bike</td>\n",
       "      <td>2021-09-04 13:59:35</td>\n",
       "      <td>2021-09-04 16:04:01</td>\n",
       "      <td>Michigan Ave &amp; Oak St</td>\n",
       "      <td>13042</td>\n",
       "      <td>Michigan Ave &amp; Oak St</td>\n",
       "      <td>13042</td>\n",
       "      <td>41.900960</td>\n",
       "      <td>-87.623777</td>\n",
       "      <td>...</td>\n",
       "      <td>-87.623777</td>\n",
       "      <td>casual</td>\n",
       "      <td>2021-09-04</td>\n",
       "      <td>Saturday</td>\n",
       "      <td>September</td>\n",
       "      <td>13</td>\n",
       "      <td>0 days 02:04:26</td>\n",
       "      <td>7466.0</td>\n",
       "      <td>124.43</td>\n",
       "      <td>2.07</td>\n",
       "    </tr>\n",
       "  </tbody>\n",
       "</table>\n",
       "<p>5 rows × 21 columns</p>\n",
       "</div>"
      ],
      "text/plain": [
       "              ride_id rideable_type          started_at            ended_at  \\\n",
       "59   E92C804563F261EC  classic_bike 2021-09-05 01:25:08 2021-09-05 01:35:46   \n",
       "61   9ECA91210441E847  classic_bike 2021-09-05 13:33:41 2021-09-05 14:06:08   \n",
       "153  3DAA144C4E85E3AA  classic_bike 2021-09-04 23:00:21 2021-09-04 23:10:00   \n",
       "180  53B99FE9BD0D35F8  classic_bike 2021-09-14 16:25:16 2021-09-14 16:35:03   \n",
       "232  F79ECB90D812BB9F  classic_bike 2021-09-04 13:59:35 2021-09-04 16:04:01   \n",
       "\n",
       "             start_station_name start_station_id           end_station_name  \\\n",
       "59         Wells St & Walton St     TA1306000011  Desplaines St & Kinzie St   \n",
       "61   Larrabee St & Armitage Ave     TA1309000006      Clark St & Leland Ave   \n",
       "153     Dearborn St & Monroe St     TA1305000006    Dearborn St & Monroe St   \n",
       "180    Kingsbury St & Kinzie St     KA1503000043        Orleans St & Elm St   \n",
       "232       Michigan Ave & Oak St            13042      Michigan Ave & Oak St   \n",
       "\n",
       "    end_station_id  start_lat  start_lng  ...    end_lng  member_casual  \\\n",
       "59    TA1306000003  41.899930 -87.634430  ... -87.644448         casual   \n",
       "61    TA1309000014  41.918084 -87.643749  ... -87.667429         casual   \n",
       "153   TA1305000006  41.881320 -87.629521  ... -87.629521         casual   \n",
       "180   TA1306000006  41.889177 -87.638506  ... -87.637715         casual   \n",
       "232          13042  41.900960 -87.623777  ... -87.623777         casual   \n",
       "\n",
       "          date day_of_week      month hour     ride_length  \\\n",
       "59  2021-09-05      Sunday  September    1 0 days 00:10:38   \n",
       "61  2021-09-05      Sunday  September   13 0 days 00:32:27   \n",
       "153 2021-09-04    Saturday  September   23 0 days 00:09:39   \n",
       "180 2021-09-14     Tuesday  September   16 0 days 00:09:47   \n",
       "232 2021-09-04    Saturday  September   13 0 days 02:04:26   \n",
       "\n",
       "    ride_length_in_seconds  ride_length_in_minutes  ride_length_in_hours  \n",
       "59                   638.0                   10.63                  0.18  \n",
       "61                  1947.0                   32.45                  0.54  \n",
       "153                  579.0                    9.65                  0.16  \n",
       "180                  587.0                    9.78                  0.16  \n",
       "232                 7466.0                  124.43                  2.07  \n",
       "\n",
       "[5 rows x 21 columns]"
      ]
     },
     "execution_count": 20,
     "metadata": {},
     "output_type": "execute_result"
    }
   ],
   "source": [
    "# Noticed that there may be rides shorter than 1 minute. \n",
    "# This could be due to accidentally starting a ride and ending it quickly.\n",
    "# It could also be due to realising the bike is faulty\n",
    "# Hence, I decided to remove rows where the rides were less than 1 minute long\n",
    "\n",
    "df=df[df['ride_length_in_seconds']>60]\n",
    "df.head()"
   ]
  },
  {
   "cell_type": "markdown",
   "metadata": {},
   "source": [
    "## Questions to answer\n",
    "\n",
    "### Cycling behaviours of Member vs Casual riders :\n",
    "- What day of the week do they cycle most often (frequency of rides)\n",
    "- Which month do they cycle most often (frequency of rides)\n",
    "- What day of the week do they cycle the longest (ride length)\n",
    "- Which month do they cycle the longest (ride length)\n",
    "- What time of the day are rides more frequent\n",
    "- Distribution of types of bikes used\n",
    "- Which starting stations have high frequencies of rides"
   ]
  },
  {
   "cell_type": "code",
   "execution_count": 21,
   "metadata": {},
   "outputs": [],
   "source": [
    "import matplotlib.pyplot as plt\n",
    "import seaborn as sns"
   ]
  },
  {
   "cell_type": "markdown",
   "metadata": {},
   "source": [
    "### Frequency of rides within a week for member vs casual riders"
   ]
  },
  {
   "cell_type": "code",
   "execution_count": 22,
   "metadata": {
    "scrolled": true
   },
   "outputs": [
    {
     "data": {
      "text/html": [
       "<div>\n",
       "<style scoped>\n",
       "    .dataframe tbody tr th:only-of-type {\n",
       "        vertical-align: middle;\n",
       "    }\n",
       "\n",
       "    .dataframe tbody tr th {\n",
       "        vertical-align: top;\n",
       "    }\n",
       "\n",
       "    .dataframe thead th {\n",
       "        text-align: right;\n",
       "    }\n",
       "</style>\n",
       "<table border=\"1\" class=\"dataframe\">\n",
       "  <thead>\n",
       "    <tr style=\"text-align: right;\">\n",
       "      <th>day_of_week</th>\n",
       "      <th>Monday</th>\n",
       "      <th>Tuesday</th>\n",
       "      <th>Wednesday</th>\n",
       "      <th>Thursday</th>\n",
       "      <th>Friday</th>\n",
       "      <th>Saturday</th>\n",
       "      <th>Sunday</th>\n",
       "    </tr>\n",
       "    <tr>\n",
       "      <th>member_casual</th>\n",
       "      <th></th>\n",
       "      <th></th>\n",
       "      <th></th>\n",
       "      <th></th>\n",
       "      <th></th>\n",
       "      <th></th>\n",
       "      <th></th>\n",
       "    </tr>\n",
       "  </thead>\n",
       "  <tbody>\n",
       "    <tr>\n",
       "      <th>casual</th>\n",
       "      <td>226587</td>\n",
       "      <td>212782</td>\n",
       "      <td>215971</td>\n",
       "      <td>222033</td>\n",
       "      <td>287162</td>\n",
       "      <td>463643</td>\n",
       "      <td>399510</td>\n",
       "    </tr>\n",
       "    <tr>\n",
       "      <th>member</th>\n",
       "      <td>341099</td>\n",
       "      <td>382449</td>\n",
       "      <td>391943</td>\n",
       "      <td>368032</td>\n",
       "      <td>360160</td>\n",
       "      <td>351093</td>\n",
       "      <td>305827</td>\n",
       "    </tr>\n",
       "  </tbody>\n",
       "</table>\n",
       "</div>"
      ],
      "text/plain": [
       "day_of_week    Monday  Tuesday  Wednesday  Thursday  Friday  Saturday  Sunday\n",
       "member_casual                                                                \n",
       "casual         226587   212782     215971    222033  287162    463643  399510\n",
       "member         341099   382449     391943    368032  360160    351093  305827"
      ]
     },
     "execution_count": 22,
     "metadata": {},
     "output_type": "execute_result"
    }
   ],
   "source": [
    "# Within a week\n",
    "sequence_days=['Monday','Tuesday','Wednesday','Thursday','Friday','Saturday','Sunday']\n",
    "\n",
    "#create a table and also make days of the week in the correct sequence  \n",
    "pd.crosstab(df['member_casual'], df['day_of_week']).reindex(columns=sequence_days)"
   ]
  },
  {
   "cell_type": "code",
   "execution_count": 23,
   "metadata": {},
   "outputs": [
    {
     "data": {
      "text/plain": [
       "Text(0, 0.5, 'No. of Rides')"
      ]
     },
     "execution_count": 23,
     "metadata": {},
     "output_type": "execute_result"
    },
    {
     "data": {
      "image/png": "[encoded data removed]",
      "text/plain": [
       "<Figure size 864x432 with 1 Axes>"
      ]
     },
     "metadata": {
      "needs_background": "light"
     },
     "output_type": "display_data"
    }
   ],
   "source": [
    "#barchart of frequency of rides across a week\n",
    "plt.figure(figsize=(12,6))\n",
    "freq_ride_week_barchart = sns.countplot(x= 'day_of_week',order= sequence_days, hue= 'member_casual',data= df)\n",
    "freq_ride_week_barchart.set(title='Frequency of Rides Across a Week')\n",
    "freq_ride_week_barchart.set_xticklabels(freq_ride_week_barchart.get_xticklabels(), rotation=40, ha=\"right\")\n",
    "freq_ride_week_barchart.set_xlabel(\"Day of the Week\")\n",
    "freq_ride_week_barchart.set_ylabel(\"No. of Rides\")"
   ]
  },
  {
   "cell_type": "markdown",
   "metadata": {},
   "source": [
    "#### -For casual riders, highest number of rides were recorded on Saturdays\n",
    "#### -For member riders, highest number of rides were recorded on Wednesday and ridership seemed roughly the same across the week. "
   ]
  },
  {
   "cell_type": "markdown",
   "metadata": {},
   "source": [
    "### Frequency of rides across the year "
   ]
  },
  {
   "cell_type": "code",
   "execution_count": 24,
   "metadata": {},
   "outputs": [
    {
     "data": {
      "text/html": [
       "<div>\n",
       "<style scoped>\n",
       "    .dataframe tbody tr th:only-of-type {\n",
       "        vertical-align: middle;\n",
       "    }\n",
       "\n",
       "    .dataframe tbody tr th {\n",
       "        vertical-align: top;\n",
       "    }\n",
       "\n",
       "    .dataframe thead th {\n",
       "        text-align: right;\n",
       "    }\n",
       "</style>\n",
       "<table border=\"1\" class=\"dataframe\">\n",
       "  <thead>\n",
       "    <tr style=\"text-align: right;\">\n",
       "      <th>month</th>\n",
       "      <th>January</th>\n",
       "      <th>February</th>\n",
       "      <th>March</th>\n",
       "      <th>April</th>\n",
       "      <th>May</th>\n",
       "      <th>June</th>\n",
       "      <th>July</th>\n",
       "      <th>August</th>\n",
       "      <th>September</th>\n",
       "      <th>October</th>\n",
       "      <th>November</th>\n",
       "      <th>December</th>\n",
       "    </tr>\n",
       "    <tr>\n",
       "      <th>member_casual</th>\n",
       "      <th></th>\n",
       "      <th></th>\n",
       "      <th></th>\n",
       "      <th></th>\n",
       "      <th></th>\n",
       "      <th></th>\n",
       "      <th></th>\n",
       "      <th></th>\n",
       "      <th></th>\n",
       "      <th></th>\n",
       "      <th></th>\n",
       "      <th></th>\n",
       "    </tr>\n",
       "  </thead>\n",
       "  <tbody>\n",
       "    <tr>\n",
       "      <th>casual</th>\n",
       "      <td>14582</td>\n",
       "      <td>8506</td>\n",
       "      <td>75050</td>\n",
       "      <td>119349</td>\n",
       "      <td>214625</td>\n",
       "      <td>300735</td>\n",
       "      <td>365457</td>\n",
       "      <td>338095</td>\n",
       "      <td>290043</td>\n",
       "      <td>187302</td>\n",
       "      <td>69262</td>\n",
       "      <td>44682</td>\n",
       "    </tr>\n",
       "    <tr>\n",
       "      <th>member</th>\n",
       "      <td>68030</td>\n",
       "      <td>33787</td>\n",
       "      <td>128333</td>\n",
       "      <td>175248</td>\n",
       "      <td>230470</td>\n",
       "      <td>299694</td>\n",
       "      <td>317633</td>\n",
       "      <td>327900</td>\n",
       "      <td>323240</td>\n",
       "      <td>284080</td>\n",
       "      <td>182892</td>\n",
       "      <td>129296</td>\n",
       "    </tr>\n",
       "  </tbody>\n",
       "</table>\n",
       "</div>"
      ],
      "text/plain": [
       "month          January  February   March   April     May    June    July  \\\n",
       "member_casual                                                              \n",
       "casual           14582      8506   75050  119349  214625  300735  365457   \n",
       "member           68030     33787  128333  175248  230470  299694  317633   \n",
       "\n",
       "month          August  September  October  November  December  \n",
       "member_casual                                                  \n",
       "casual         338095     290043   187302     69262     44682  \n",
       "member         327900     323240   284080    182892    129296  "
      ]
     },
     "execution_count": 24,
     "metadata": {},
     "output_type": "execute_result"
    }
   ],
   "source": [
    "# Months over a year\n",
    "sequence_months=['January','February','March','April','May','June','July','August','September','October','November','December']\n",
    "\n",
    "#create a table and also make months in the correct sequence  \n",
    "pd.crosstab(df['member_casual'], df['month']).reindex(columns=sequence_months)"
   ]
  },
  {
   "cell_type": "code",
   "execution_count": 25,
   "metadata": {},
   "outputs": [
    {
     "data": {
      "text/plain": [
       "Text(0, 0.5, 'No. of Rides')"
      ]
     },
     "execution_count": 25,
     "metadata": {},
     "output_type": "execute_result"
    },
    {
     "data": {
      "image/png": "[encoded data removed]",
      "text/plain": [
       "<Figure size 1008x576 with 1 Axes>"
      ]
     },
     "metadata": {
      "needs_background": "light"
     },
     "output_type": "display_data"
    }
   ],
   "source": [
    "#barchart of frequency of rides across a year\n",
    "plt.figure(figsize=(14,8))\n",
    "freq_ride_month_barchart = sns.countplot(x= 'month',order= sequence_months, hue= 'member_casual',data= df)\n",
    "freq_ride_month_barchart.set(title='Frequency of Rides Across the Year')\n",
    "freq_ride_month_barchart.set_xticklabels(freq_ride_month_barchart.get_xticklabels(), rotation=40, ha=\"right\")\n",
    "freq_ride_month_barchart.set_xlabel(\"Month\")\n",
    "freq_ride_month_barchart.set_ylabel(\"No. of Rides\")"
   ]
  },
  {
   "cell_type": "markdown",
   "metadata": {},
   "source": [
    "#### -For casual riders, highest number of rides were recorded in July \n",
    "#### -For members, highest number of rides were recorded in August"
   ]
  },
  {
   "cell_type": "markdown",
   "metadata": {},
   "source": [
    "### Ride Length Across the Week"
   ]
  },
  {
   "cell_type": "code",
   "execution_count": 26,
   "metadata": {},
   "outputs": [
    {
     "data": {
      "text/plain": [
       "Text(0, 0.5, 'Ride Length (minutes)')"
      ]
     },
     "execution_count": 26,
     "metadata": {},
     "output_type": "execute_result"
    },
    {
     "data": {
      "image/png": "[encoded data removed]",
      "text/plain": [
       "<Figure size 1008x576 with 1 Axes>"
      ]
     },
     "metadata": {
      "needs_background": "light"
     },
     "output_type": "display_data"
    }
   ],
   "source": [
    "#barplot of each user's ride length across a week\n",
    "plt.figure(figsize=(14,8))\n",
    "ridelength_week_barplot = sns.barplot(x= 'day_of_week',y='ride_length_in_minutes',order= sequence_days, hue= 'member_casual',capsize= 0.02,data= df)\n",
    "ridelength_week_barplot.set(title='Average User Ride Length Across a Week')\n",
    "ridelength_week_barplot.set_xticklabels(ridelength_week_barplot.get_xticklabels(), rotation=40, ha=\"right\")\n",
    "ridelength_week_barplot.set_xlabel(\"Day of the Week\")\n",
    "ridelength_week_barplot.set_ylabel(\"Ride Length (minutes)\")"
   ]
  },
  {
   "cell_type": "markdown",
   "metadata": {},
   "source": [
    "#### -Casual riders' ride length is higher compared to member riders\n",
    "#### -Casual riders cycle for a longer time on weekends compared to weekdays \n",
    "#### -Member riders cycle for a shorter duration consistently across the week"
   ]
  },
  {
   "cell_type": "markdown",
   "metadata": {},
   "source": [
    "### Ride length across the year"
   ]
  },
  {
   "cell_type": "code",
   "execution_count": 27,
   "metadata": {},
   "outputs": [
    {
     "data": {
      "text/plain": [
       "Text(0, 0.5, 'Ride Length (minutes)')"
      ]
     },
     "execution_count": 27,
     "metadata": {},
     "output_type": "execute_result"
    },
    {
     "data": {
      "image/png": "[encoded data removed]",
      "text/plain": [
       "<Figure size 1080x648 with 1 Axes>"
      ]
     },
     "metadata": {
      "needs_background": "light"
     },
     "output_type": "display_data"
    }
   ],
   "source": [
    "#barplot of each user's ride length per month across the year\n",
    "plt.figure(figsize=(15,9))\n",
    "ridelength_month_barplot = sns.barplot(x= 'month',y='ride_length_in_minutes',order= sequence_months, hue= 'member_casual',capsize= 0.06,data= df)\n",
    "ridelength_month_barplot.set(title='Average User Ride Length Each Month')\n",
    "ridelength_month_barplot.set_xticklabels(ridelength_month_barplot.get_xticklabels(), rotation=40, ha=\"right\")\n",
    "ridelength_month_barplot.set_xlabel(\"Month\")\n",
    "ridelength_month_barplot.set_ylabel(\"Ride Length (minutes)\")"
   ]
  },
  {
   "cell_type": "markdown",
   "metadata": {},
   "source": [
    "### Ride Frequency Within the Day"
   ]
  },
  {
   "cell_type": "code",
   "execution_count": 28,
   "metadata": {},
   "outputs": [
    {
     "data": {
      "text/html": [
       "<div>\n",
       "<style scoped>\n",
       "    .dataframe tbody tr th:only-of-type {\n",
       "        vertical-align: middle;\n",
       "    }\n",
       "\n",
       "    .dataframe tbody tr th {\n",
       "        vertical-align: top;\n",
       "    }\n",
       "\n",
       "    .dataframe thead th {\n",
       "        text-align: right;\n",
       "    }\n",
       "</style>\n",
       "<table border=\"1\" class=\"dataframe\">\n",
       "  <thead>\n",
       "    <tr style=\"text-align: right;\">\n",
       "      <th>hour</th>\n",
       "      <th>0</th>\n",
       "      <th>1</th>\n",
       "      <th>2</th>\n",
       "      <th>3</th>\n",
       "      <th>4</th>\n",
       "      <th>5</th>\n",
       "      <th>6</th>\n",
       "      <th>7</th>\n",
       "      <th>8</th>\n",
       "      <th>9</th>\n",
       "      <th>...</th>\n",
       "      <th>14</th>\n",
       "      <th>15</th>\n",
       "      <th>16</th>\n",
       "      <th>17</th>\n",
       "      <th>18</th>\n",
       "      <th>19</th>\n",
       "      <th>20</th>\n",
       "      <th>21</th>\n",
       "      <th>22</th>\n",
       "      <th>23</th>\n",
       "    </tr>\n",
       "    <tr>\n",
       "      <th>member_casual</th>\n",
       "      <th></th>\n",
       "      <th></th>\n",
       "      <th></th>\n",
       "      <th></th>\n",
       "      <th></th>\n",
       "      <th></th>\n",
       "      <th></th>\n",
       "      <th></th>\n",
       "      <th></th>\n",
       "      <th></th>\n",
       "      <th></th>\n",
       "      <th></th>\n",
       "      <th></th>\n",
       "      <th></th>\n",
       "      <th></th>\n",
       "      <th></th>\n",
       "      <th></th>\n",
       "      <th></th>\n",
       "      <th></th>\n",
       "      <th></th>\n",
       "      <th></th>\n",
       "    </tr>\n",
       "  </thead>\n",
       "  <tbody>\n",
       "    <tr>\n",
       "      <th>casual</th>\n",
       "      <td>41885</td>\n",
       "      <td>30382</td>\n",
       "      <td>19402</td>\n",
       "      <td>10132</td>\n",
       "      <td>6627</td>\n",
       "      <td>8727</td>\n",
       "      <td>19231</td>\n",
       "      <td>35729</td>\n",
       "      <td>49251</td>\n",
       "      <td>60269</td>\n",
       "      <td>...</td>\n",
       "      <td>144671</td>\n",
       "      <td>151761</td>\n",
       "      <td>166216</td>\n",
       "      <td>194020</td>\n",
       "      <td>174479</td>\n",
       "      <td>133675</td>\n",
       "      <td>96986</td>\n",
       "      <td>81941</td>\n",
       "      <td>75691</td>\n",
       "      <td>58189</td>\n",
       "    </tr>\n",
       "    <tr>\n",
       "      <th>member</th>\n",
       "      <td>24840</td>\n",
       "      <td>16069</td>\n",
       "      <td>8815</td>\n",
       "      <td>5011</td>\n",
       "      <td>5902</td>\n",
       "      <td>25260</td>\n",
       "      <td>70699</td>\n",
       "      <td>128685</td>\n",
       "      <td>147569</td>\n",
       "      <td>106601</td>\n",
       "      <td>...</td>\n",
       "      <td>139646</td>\n",
       "      <td>162434</td>\n",
       "      <td>213334</td>\n",
       "      <td>269437</td>\n",
       "      <td>224909</td>\n",
       "      <td>158660</td>\n",
       "      <td>104567</td>\n",
       "      <td>76000</td>\n",
       "      <td>57628</td>\n",
       "      <td>39263</td>\n",
       "    </tr>\n",
       "  </tbody>\n",
       "</table>\n",
       "<p>2 rows × 24 columns</p>\n",
       "</div>"
      ],
      "text/plain": [
       "hour              0      1      2      3     4      5      6       7       8   \\\n",
       "member_casual                                                                   \n",
       "casual         41885  30382  19402  10132  6627   8727  19231   35729   49251   \n",
       "member         24840  16069   8815   5011  5902  25260  70699  128685  147569   \n",
       "\n",
       "hour               9   ...      14      15      16      17      18      19  \\\n",
       "member_casual          ...                                                   \n",
       "casual          60269  ...  144671  151761  166216  194020  174479  133675   \n",
       "member         106601  ...  139646  162434  213334  269437  224909  158660   \n",
       "\n",
       "hour               20     21     22     23  \n",
       "member_casual                               \n",
       "casual          96986  81941  75691  58189  \n",
       "member         104567  76000  57628  39263  \n",
       "\n",
       "[2 rows x 24 columns]"
      ]
     },
     "execution_count": 28,
     "metadata": {},
     "output_type": "execute_result"
    }
   ],
   "source": [
    "# create table of frequency of rides per hour\n",
    "pd.crosstab(df['member_casual'], df['hour'])"
   ]
  },
  {
   "cell_type": "code",
   "execution_count": 29,
   "metadata": {},
   "outputs": [
    {
     "data": {
      "text/plain": [
       "[Text(0.5, 1.0, 'Ride Frequency within a Day')]"
      ]
     },
     "execution_count": 29,
     "metadata": {},
     "output_type": "execute_result"
    },
    {
     "data": {
      "image/png": "[encoded data removed]",
      "text/plain": [
       "<Figure size 1080x648 with 1 Axes>"
      ]
     },
     "metadata": {
      "needs_background": "light"
     },
     "output_type": "display_data"
    }
   ],
   "source": [
    "# create line graph\n",
    "plt.figure(figsize=(15,9))\n",
    "day_frequency=df.groupby([\"member_casual\",\"hour\"])[\"ride_length\"].count()\n",
    "\n",
    "day_freq_lineplot=sns.lineplot(x=\"hour\",y=day_frequency, hue=\"member_casual\",\n",
    "             data=day_frequency)\n",
    "day_freq_lineplot.set_xlabel(\"Time of the day in 24 Hour format\")\n",
    "day_freq_lineplot.set_ylabel(\"No. of Rides\")\n",
    "day_freq_lineplot.set_xticks(range(24))\n",
    "day_freq_lineplot.set(title='Ride Frequency within a Day')"
   ]
  },
  {
   "cell_type": "markdown",
   "metadata": {},
   "source": [
    "#### Both casual and member riders tend to ride in the evening, most frequently at 5pm. "
   ]
  },
  {
   "cell_type": "markdown",
   "metadata": {},
   "source": [
    "### Bike Preferrences Among Casual and Member Riders"
   ]
  },
  {
   "cell_type": "code",
   "execution_count": 30,
   "metadata": {},
   "outputs": [
    {
     "data": {
      "text/html": [
       "<div>\n",
       "<style scoped>\n",
       "    .dataframe tbody tr th:only-of-type {\n",
       "        vertical-align: middle;\n",
       "    }\n",
       "\n",
       "    .dataframe tbody tr th {\n",
       "        vertical-align: top;\n",
       "    }\n",
       "\n",
       "    .dataframe thead th {\n",
       "        text-align: right;\n",
       "    }\n",
       "</style>\n",
       "<table border=\"1\" class=\"dataframe\">\n",
       "  <thead>\n",
       "    <tr style=\"text-align: right;\">\n",
       "      <th>rideable_type</th>\n",
       "      <th>classic_bike</th>\n",
       "      <th>docked_bike</th>\n",
       "      <th>electric_bike</th>\n",
       "    </tr>\n",
       "    <tr>\n",
       "      <th>member_casual</th>\n",
       "      <th></th>\n",
       "      <th></th>\n",
       "      <th></th>\n",
       "    </tr>\n",
       "  </thead>\n",
       "  <tbody>\n",
       "    <tr>\n",
       "      <th>casual</th>\n",
       "      <td>1248280</td>\n",
       "      <td>310075</td>\n",
       "      <td>469333</td>\n",
       "    </tr>\n",
       "    <tr>\n",
       "      <th>member</th>\n",
       "      <td>1951549</td>\n",
       "      <td>1</td>\n",
       "      <td>549053</td>\n",
       "    </tr>\n",
       "  </tbody>\n",
       "</table>\n",
       "</div>"
      ],
      "text/plain": [
       "rideable_type  classic_bike  docked_bike  electric_bike\n",
       "member_casual                                          \n",
       "casual              1248280       310075         469333\n",
       "member              1951549            1         549053"
      ]
     },
     "execution_count": 30,
     "metadata": {},
     "output_type": "execute_result"
    }
   ],
   "source": [
    "# Bike preferences\n",
    "pd.crosstab(df['member_casual'], df['rideable_type'])"
   ]
  },
  {
   "cell_type": "code",
   "execution_count": 31,
   "metadata": {},
   "outputs": [
    {
     "data": {
      "text/plain": [
       "[Text(0.5, 1.0, 'Bike Preference Among Riders')]"
      ]
     },
     "execution_count": 31,
     "metadata": {},
     "output_type": "execute_result"
    },
    {
     "data": {
      "image/png": "[encoded data removed]",
      "text/plain": [
       "<Figure size 432x288 with 1 Axes>"
      ]
     },
     "metadata": {
      "needs_background": "light"
     },
     "output_type": "display_data"
    }
   ],
   "source": [
    "bike_pref_barchart=sns.countplot(x= 'rideable_type', hue= 'member_casual', data=df,)\n",
    "plt.xlabel('Bike Type')\n",
    "plt.ylabel('Count')\n",
    "plt.ticklabel_format(style='plain', axis='y')\n",
    "bike_pref_barchart.set(title='Bike Preference Among Riders')"
   ]
  },
  {
   "cell_type": "markdown",
   "metadata": {},
   "source": [
    "#### -Both casual and member riders prefer classic bikes the most and docked bikes the least"
   ]
  },
  {
   "cell_type": "markdown",
   "metadata": {},
   "source": [
    "### Top 10 Start Station Names by Casual Riders"
   ]
  },
  {
   "cell_type": "code",
   "execution_count": 32,
   "metadata": {},
   "outputs": [],
   "source": [
    "#Count frequency of rides according to start stations, sorted in descending order\n",
    "start_station = df.groupby([\"member_casual\",\"start_station_name\"])[\"ride_length\"].count().sort_values(ascending = False)"
   ]
  },
  {
   "cell_type": "code",
   "execution_count": 39,
   "metadata": {},
   "outputs": [
    {
     "data": {
      "image/png": "[encoded data removed]",
      "text/plain": [
       "<Figure size 432x288 with 1 Axes>"
      ]
     },
     "metadata": {
      "needs_background": "light"
     },
     "output_type": "display_data"
    }
   ],
   "source": [
    "#Create a horizontal bar plot for casual riders\n",
    "ax = start_station.loc[\"casual\"][:10].plot.barh()\n",
    "ax.invert_yaxis()\n",
    "ax.set(xlabel = 'Total Ride',ylabel='Start Station', title = \"Top 10 Start Station Name by Casual Riders\")\n",
    "\n",
    "\n",
    "plt.show()"
   ]
  },
  {
   "cell_type": "markdown",
   "metadata": {},
   "source": [
    "### Top 10 End Station Names by Casual Riders"
   ]
  },
  {
   "cell_type": "code",
   "execution_count": 34,
   "metadata": {},
   "outputs": [],
   "source": [
    "#Count frequency of rides according to end stations, sorted in descending order\n",
    "end_station = df.groupby([\"member_casual\",\"end_station_name\"])[\"ride_length\"].count().sort_values(ascending = False)"
   ]
  },
  {
   "cell_type": "code",
   "execution_count": 40,
   "metadata": {},
   "outputs": [
    {
     "data": {
      "image/png": "[encoded data removed]",
      "text/plain": [
       "<Figure size 432x288 with 1 Axes>"
      ]
     },
     "metadata": {
      "needs_background": "light"
     },
     "output_type": "display_data"
    }
   ],
   "source": [
    "#Horizontal bar plot of end stations by casual riders\n",
    "ax = end_station.loc[\"casual\"][:10].plot.barh()\n",
    "ax.invert_yaxis()\n",
    "ax.set(xlabel = 'Total Ride',ylabel='Start Station', title = \"Top 10 End Station Name by Casual Riders\")\n",
    "\n",
    "\n",
    "plt.show()"
   ]
  },
  {
   "cell_type": "markdown",
   "metadata": {},
   "source": [
    "### Top 10 Start Station Names by Member Riders"
   ]
  },
  {
   "cell_type": "code",
   "execution_count": 41,
   "metadata": {},
   "outputs": [
    {
     "data": {
      "image/png": "[encoded data removed]",
      "text/plain": [
       "<Figure size 432x288 with 1 Axes>"
      ]
     },
     "metadata": {
      "needs_background": "light"
     },
     "output_type": "display_data"
    }
   ],
   "source": [
    "#Create horizontal bar plot for member riders\n",
    "ax = start_station.loc[\"member\"][:10].plot.barh(color= 'orange')\n",
    "ax.invert_yaxis()\n",
    "ax.set(xlabel = 'Total Ride', ylabel='Start Station',title = \"Top 10 Start Station Name by Member Riders\")\n",
    "\n",
    "\n",
    "plt.show()"
   ]
  },
  {
   "cell_type": "markdown",
   "metadata": {},
   "source": [
    "### Top 10 End Station Names by Member Riders"
   ]
  },
  {
   "cell_type": "code",
   "execution_count": 42,
   "metadata": {},
   "outputs": [
    {
     "data": {
      "image/png": "[encoded data removed]",
      "text/plain": [
       "<Figure size 432x288 with 1 Axes>"
      ]
     },
     "metadata": {
      "needs_background": "light"
     },
     "output_type": "display_data"
    }
   ],
   "source": [
    "#Horizontal bar plot of end stations by member riders\n",
    "\n",
    "ax = end_station.loc[\"member\"][:10].plot.barh(color='orange')\n",
    "ax.invert_yaxis()\n",
    "ax.set(xlabel = 'Total Ride',ylabel='Start Station', title = \"Top 10 End Station Name by Member Riders\")\n",
    "\n",
    "\n",
    "plt.show()"
   ]
  },
  {
   "cell_type": "markdown",
   "metadata": {},
   "source": [
    "## Conclusion"
   ]
  },
  {
   "cell_type": "markdown",
   "metadata": {},
   "source": [
    "- Casual riders cycle more often on weekends than weekdays \n",
    "- Casual riders cycle for a longer time compared to members \n",
    "- Ridership is highest during the summer period from June to September\n",
    "- Ridership is highest in the evening at 5pm\n",
    "- Both casual riders and members prefer docked bikes\n",
    "- For casual riders, most rides start at Streeter Dr & Grand Ave\n"
   ]
  },
  {
   "cell_type": "markdown",
   "metadata": {},
   "source": [
    "## Recommendations"
   ]
  },
  {
   "cell_type": "markdown",
   "metadata": {},
   "source": [
    "1. Create a weekend pass that allows casual riders to ride longer on weekends for a cheaper rate\n",
    "2. Advertising campaigns should be run slightly before the start of the summer months\n",
    "3. Can also consider a seasonal pass that allows casual riders to enjoy discounted prices from June to September\n",
    "4. Ensure that there are sufficient bikes deployed at Streeter Dr & Grand Ave"
   ]
  },
  {
   "cell_type": "code",
   "execution_count": null,
   "metadata": {},
   "outputs": [],
   "source": []
  }
 ],
 "metadata": {
  "kernelspec": {
   "display_name": "Python 3",
   "language": "python",
   "name": "python3"
  },
  "language_info": {
   "codemirror_mode": {
    "name": "ipython",
    "version": 3
   },
   "file_extension": ".py",
   "mimetype": "text/x-python",
   "name": "python",
   "nbconvert_exporter": "python",
   "pygments_lexer": "ipython3",
   "version": "3.8.5"
  }
 },
 "nbformat": 4,
 "nbformat_minor": 4
}
